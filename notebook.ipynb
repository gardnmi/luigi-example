{
 "cells": [
  {
   "cell_type": "code",
   "execution_count": 1,
   "metadata": {
    "ExecuteTime": {
     "end_time": "2020-10-23T20:59:53.111298Z",
     "start_time": "2020-10-23T20:59:40.529601Z"
    }
   },
   "outputs": [],
   "source": [
    "from utils import DisplayablePath\n",
    "from pathlib import Path\n",
    "import pandas as pd"
   ]
  },
  {
   "cell_type": "code",
   "execution_count": 3,
   "metadata": {
    "ExecuteTime": {
     "end_time": "2020-10-23T21:00:11.371884Z",
     "start_time": "2020-10-23T21:00:11.361355Z"
    }
   },
   "outputs": [
    {
     "name": "stdout",
     "output_type": "stream",
     "text": [
      "luigi-example/\n",
      "├── hello_world.py\n",
      "├── letter_counts.csv\n",
      "├── my.db\n",
      "├── notebook.ipynb\n",
      "├── sql_example.py\n",
      "├── utils.py\n",
      "└── words.csv\n"
     ]
    }
   ],
   "source": [
    "ignore = ['.git', '.vscode', '__pycache__', 'README.md', '.ipynb_checkpoints']\n",
    "\n",
    "paths = DisplayablePath.make_tree(Path.cwd(), criteria=lambda path: True if path.name not in ignore else False)\n",
    "for path in paths:\n",
    "    print(path.displayable())"
   ]
  },
  {
   "cell_type": "code",
   "execution_count": 6,
   "metadata": {
    "ExecuteTime": {
     "end_time": "2020-10-23T21:11:33.422765Z",
     "start_time": "2020-10-23T21:11:33.413741Z"
    }
   },
   "outputs": [],
   "source": [
    "words = [\n",
    "        'apple',\n",
    "        'banana',\n",
    "        'grapefruit'\n",
    "        ]\n",
    "\n",
    "df = pd.DataFrame(dict(words=words)).to_csv('words.csv', index=False)"
   ]
  },
  {
   "cell_type": "code",
   "execution_count": 70,
   "metadata": {},
   "outputs": [],
   "source": [
    "df['letter_count'] = df.words.map(len)"
   ]
  },
  {
   "cell_type": "code",
   "execution_count": 73,
   "metadata": {},
   "outputs": [
    {
     "ename": "TypeError",
     "evalue": "to_sql() got an unexpected keyword argument 'flavor'",
     "output_type": "error",
     "traceback": [
      "\u001b[1;31m---------------------------------------------------------------------------\u001b[0m",
      "\u001b[1;31mTypeError\u001b[0m                                 Traceback (most recent call last)",
      "\u001b[1;32m<ipython-input-73-aa90cbb670c1>\u001b[0m in \u001b[0;36m<module>\u001b[1;34m\u001b[0m\n\u001b[1;32m----> 1\u001b[1;33m \u001b[0mdf\u001b[0m\u001b[1;33m.\u001b[0m\u001b[0mto_sql\u001b[0m\u001b[1;33m(\u001b[0m\u001b[1;34m'test'\u001b[0m\u001b[1;33m,\u001b[0m \u001b[0mflavor\u001b[0m\u001b[1;33m=\u001b[0m\u001b[1;34m'sqlite'\u001b[0m\u001b[1;33m)\u001b[0m\u001b[1;33m\u001b[0m\u001b[1;33m\u001b[0m\u001b[0m\n\u001b[0m",
      "\u001b[1;31mTypeError\u001b[0m: to_sql() got an unexpected keyword argument 'flavor'"
     ]
    }
   ],
   "source": [
    "df.to_sql('test', flavor='sqlite')"
   ]
  },
  {
   "cell_type": "code",
   "execution_count": 9,
   "metadata": {},
   "outputs": [],
   "source": [
    "\n",
    "\n",
    "criteria=None\n",
    "\n",
    "def _default_criteria():\n",
    "    return True\n",
    "\n",
    "criteria = criteria or _default_criteria"
   ]
  },
  {
   "cell_type": "code",
   "execution_count": 10,
   "metadata": {},
   "outputs": [
    {
     "data": {
      "text/plain": [
       "<function __main__._default_criteria()>"
      ]
     },
     "execution_count": 10,
     "metadata": {},
     "output_type": "execute_result"
    }
   ],
   "source": [
    "criteria"
   ]
  },
  {
   "cell_type": "code",
   "execution_count": 19,
   "metadata": {},
   "outputs": [
    {
     "name": "stdout",
     "output_type": "stream",
     "text": [
      "c:\\Users\\michgardner\\Desktop\\luigi-example\\hello_world.py\n",
      "c:\\Users\\michgardner\\Desktop\\luigi-example\\letter_counts.txt\n",
      "c:\\Users\\michgardner\\Desktop\\luigi-example\\notebook.ipynb\n",
      "c:\\Users\\michgardner\\Desktop\\luigi-example\\README.md\n",
      "c:\\Users\\michgardner\\Desktop\\luigi-example\\sql_example.py\n",
      "c:\\Users\\michgardner\\Desktop\\luigi-example\\utils.py\n",
      "c:\\Users\\michgardner\\Desktop\\luigi-example\\words.txt\n",
      "c:\\Users\\michgardner\\Desktop\\luigi-example\\__pycache__\n"
     ]
    }
   ],
   "source": [
    "for x in Path.cwd().iterdir():\n",
    "    if x.name not in ('.git', '.vscode'):\n",
    "        return True\n"
   ]
  },
  {
   "cell_type": "code",
   "execution_count": 89,
   "metadata": {},
   "outputs": [
    {
     "ename": "SyntaxError",
     "evalue": "invalid syntax (<ipython-input-89-5a0fb8b133a0>, line 4)",
     "output_type": "error",
     "traceback": [
      "\u001b[1;36m  File \u001b[1;32m\"<ipython-input-89-5a0fb8b133a0>\"\u001b[1;36m, line \u001b[1;32m4\u001b[0m\n\u001b[1;33m    time.ctime(os.path.getmtime(Path(''))))# or datetime.datetime.today()\u001b[0m\n\u001b[1;37m                                          ^\u001b[0m\n\u001b[1;31mSyntaxError\u001b[0m\u001b[1;31m:\u001b[0m invalid syntax\n"
     ]
    }
   ],
   "source": [
    "import datetime\n",
    "import time\n",
    "import os\n",
    "time.ctime(os.path.getmtime(Path(''))))# or datetime.datetime.today()"
   ]
  },
  {
   "cell_type": "code",
   "execution_count": 88,
   "metadata": {},
   "outputs": [
    {
     "data": {
      "text/plain": [
       "'Fri Oct 23 09:58:49 2020'"
      ]
     },
     "execution_count": 88,
     "metadata": {},
     "output_type": "execute_result"
    }
   ],
   "source": [
    "time.ctime(os.path.getmtime(Path('')))"
   ]
  },
  {
   "cell_type": "code",
   "execution_count": 95,
   "metadata": {},
   "outputs": [],
   "source": [
    "mtime = os.path.getmtime(Path(''))"
   ]
  },
  {
   "cell_type": "code",
   "execution_count": 99,
   "metadata": {},
   "outputs": [
    {
     "data": {
      "text/plain": [
       "'2020-10-23 09:58:49.113249'"
      ]
     },
     "execution_count": 99,
     "metadata": {},
     "output_type": "execute_result"
    }
   ],
   "source": [
    "str(datetime.datetime.fromtimestamp(x))"
   ]
  },
  {
   "cell_type": "code",
   "execution_count": null,
   "metadata": {},
   "outputs": [],
   "source": []
  }
 ],
 "metadata": {
  "kernelspec": {
   "display_name": "Python 3",
   "language": "python",
   "name": "python3"
  },
  "language_info": {
   "codemirror_mode": {
    "name": "ipython",
    "version": 3
   },
   "file_extension": ".py",
   "mimetype": "text/x-python",
   "name": "python",
   "nbconvert_exporter": "python",
   "pygments_lexer": "ipython3",
   "version": "3.7.7"
  },
  "varInspector": {
   "cols": {
    "lenName": 16,
    "lenType": 16,
    "lenVar": 40
   },
   "kernels_config": {
    "python": {
     "delete_cmd_postfix": "",
     "delete_cmd_prefix": "del ",
     "library": "var_list.py",
     "varRefreshCmd": "print(var_dic_list())"
    },
    "r": {
     "delete_cmd_postfix": ") ",
     "delete_cmd_prefix": "rm(",
     "library": "var_list.r",
     "varRefreshCmd": "cat(var_dic_list()) "
    }
   },
   "types_to_exclude": [
    "module",
    "function",
    "builtin_function_or_method",
    "instance",
    "_Feature"
   ],
   "window_display": false
  }
 },
 "nbformat": 4,
 "nbformat_minor": 2
}
